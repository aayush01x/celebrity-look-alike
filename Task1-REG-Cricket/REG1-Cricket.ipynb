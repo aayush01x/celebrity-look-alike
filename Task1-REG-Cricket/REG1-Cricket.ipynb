{
 "cells": [
  {
   "cell_type": "markdown",
   "id": "bf0b7645",
   "metadata": {},
   "source": [
    "# Task: REG-Cricket"
   ]
  },
  {
   "cell_type": "code",
   "execution_count": null,
   "id": "6b0d89cb",
   "metadata": {},
   "outputs": [],
   "source": [
    "#Task: REG-Cricket : Predicting number of 4s of players trained on dataset of IPL 2022 Batters using Linear Regression\n",
    "#dataset : \"IPL 2022 Batters.csv\""
   ]
  },
  {
   "cell_type": "code",
   "execution_count": 1,
   "id": "60232abe",
   "metadata": {},
   "outputs": [],
   "source": [
    "import numpy as np\n",
    "import pandas as pd\n",
    "import matplotlib.pyplot as plt\n",
    "import seaborn as sns\n",
    "from sklearn.model_selection import train_test_split\n",
    "from sklearn.linear_model import LinearRegression\n",
    "from sklearn.metrics import mean_squared_error"
   ]
  },
  {
   "cell_type": "markdown",
   "id": "0d8afb99",
   "metadata": {},
   "source": [
    "### Reading csv dataset using pandas"
   ]
  },
  {
   "cell_type": "code",
   "execution_count": 2,
   "id": "4268c76f",
   "metadata": {},
   "outputs": [],
   "source": [
    "#Reading csv dataset using pandas\n",
    "df = pd.read_csv(\"IPL 2022 Batters.csv\")"
   ]
  },
  {
   "cell_type": "code",
   "execution_count": 3,
   "id": "85bac28d",
   "metadata": {},
   "outputs": [
    {
     "data": {
      "text/html": [
       "<div>\n",
       "<style scoped>\n",
       "    .dataframe tbody tr th:only-of-type {\n",
       "        vertical-align: middle;\n",
       "    }\n",
       "\n",
       "    .dataframe tbody tr th {\n",
       "        vertical-align: top;\n",
       "    }\n",
       "\n",
       "    .dataframe thead th {\n",
       "        text-align: right;\n",
       "    }\n",
       "</style>\n",
       "<table border=\"1\" class=\"dataframe\">\n",
       "  <thead>\n",
       "    <tr style=\"text-align: right;\">\n",
       "      <th></th>\n",
       "      <th>Player</th>\n",
       "      <th>Mat</th>\n",
       "      <th>Inns</th>\n",
       "      <th>NO</th>\n",
       "      <th>Runs</th>\n",
       "      <th>HS</th>\n",
       "      <th>Avg</th>\n",
       "      <th>BF</th>\n",
       "      <th>SR</th>\n",
       "      <th>100</th>\n",
       "      <th>50</th>\n",
       "      <th>4s</th>\n",
       "    </tr>\n",
       "  </thead>\n",
       "  <tbody>\n",
       "    <tr>\n",
       "      <th>0</th>\n",
       "      <td>Jos Buttler</td>\n",
       "      <td>17</td>\n",
       "      <td>17</td>\n",
       "      <td>2</td>\n",
       "      <td>863</td>\n",
       "      <td>116</td>\n",
       "      <td>57.53</td>\n",
       "      <td>579</td>\n",
       "      <td>149.05</td>\n",
       "      <td>4</td>\n",
       "      <td>4</td>\n",
       "      <td>83</td>\n",
       "    </tr>\n",
       "    <tr>\n",
       "      <th>1</th>\n",
       "      <td>K L Rahul</td>\n",
       "      <td>15</td>\n",
       "      <td>15</td>\n",
       "      <td>3</td>\n",
       "      <td>616</td>\n",
       "      <td>103*</td>\n",
       "      <td>51.33</td>\n",
       "      <td>455</td>\n",
       "      <td>135.38</td>\n",
       "      <td>2</td>\n",
       "      <td>4</td>\n",
       "      <td>45</td>\n",
       "    </tr>\n",
       "    <tr>\n",
       "      <th>2</th>\n",
       "      <td>Quinton De Kock</td>\n",
       "      <td>15</td>\n",
       "      <td>15</td>\n",
       "      <td>1</td>\n",
       "      <td>508</td>\n",
       "      <td>140*</td>\n",
       "      <td>36.29</td>\n",
       "      <td>341</td>\n",
       "      <td>148.97</td>\n",
       "      <td>1</td>\n",
       "      <td>3</td>\n",
       "      <td>47</td>\n",
       "    </tr>\n",
       "    <tr>\n",
       "      <th>3</th>\n",
       "      <td>Hardik Pandya</td>\n",
       "      <td>15</td>\n",
       "      <td>15</td>\n",
       "      <td>4</td>\n",
       "      <td>487</td>\n",
       "      <td>87*</td>\n",
       "      <td>44.27</td>\n",
       "      <td>371</td>\n",
       "      <td>131.26</td>\n",
       "      <td>0</td>\n",
       "      <td>4</td>\n",
       "      <td>49</td>\n",
       "    </tr>\n",
       "    <tr>\n",
       "      <th>4</th>\n",
       "      <td>Shubman Gill</td>\n",
       "      <td>16</td>\n",
       "      <td>16</td>\n",
       "      <td>2</td>\n",
       "      <td>483</td>\n",
       "      <td>96</td>\n",
       "      <td>34.5</td>\n",
       "      <td>365</td>\n",
       "      <td>132.32</td>\n",
       "      <td>0</td>\n",
       "      <td>4</td>\n",
       "      <td>51</td>\n",
       "    </tr>\n",
       "    <tr>\n",
       "      <th>...</th>\n",
       "      <td>...</td>\n",
       "      <td>...</td>\n",
       "      <td>...</td>\n",
       "      <td>...</td>\n",
       "      <td>...</td>\n",
       "      <td>...</td>\n",
       "      <td>...</td>\n",
       "      <td>...</td>\n",
       "      <td>...</td>\n",
       "      <td>...</td>\n",
       "      <td>...</td>\n",
       "      <td>...</td>\n",
       "    </tr>\n",
       "    <tr>\n",
       "      <th>157</th>\n",
       "      <td>Fazalhaq Farooqi</td>\n",
       "      <td>3</td>\n",
       "      <td>1</td>\n",
       "      <td>1</td>\n",
       "      <td>2</td>\n",
       "      <td>2*</td>\n",
       "      <td>-</td>\n",
       "      <td>8</td>\n",
       "      <td>25.00</td>\n",
       "      <td>0</td>\n",
       "      <td>0</td>\n",
       "      <td>0</td>\n",
       "    </tr>\n",
       "    <tr>\n",
       "      <th>158</th>\n",
       "      <td>Jagadeesha Suchith</td>\n",
       "      <td>5</td>\n",
       "      <td>2</td>\n",
       "      <td>0</td>\n",
       "      <td>2</td>\n",
       "      <td>2</td>\n",
       "      <td>1</td>\n",
       "      <td>8</td>\n",
       "      <td>25.00</td>\n",
       "      <td>0</td>\n",
       "      <td>0</td>\n",
       "      <td>0</td>\n",
       "    </tr>\n",
       "    <tr>\n",
       "      <th>159</th>\n",
       "      <td>Tim Southee</td>\n",
       "      <td>9</td>\n",
       "      <td>5</td>\n",
       "      <td>1</td>\n",
       "      <td>2</td>\n",
       "      <td>1*</td>\n",
       "      <td>0.5</td>\n",
       "      <td>12</td>\n",
       "      <td>16.66</td>\n",
       "      <td>0</td>\n",
       "      <td>0</td>\n",
       "      <td>0</td>\n",
       "    </tr>\n",
       "    <tr>\n",
       "      <th>160</th>\n",
       "      <td>Nathan Coulter-Nile</td>\n",
       "      <td>1</td>\n",
       "      <td>1</td>\n",
       "      <td>1</td>\n",
       "      <td>1</td>\n",
       "      <td>1*</td>\n",
       "      <td>-</td>\n",
       "      <td>2</td>\n",
       "      <td>50.00</td>\n",
       "      <td>0</td>\n",
       "      <td>0</td>\n",
       "      <td>0</td>\n",
       "    </tr>\n",
       "    <tr>\n",
       "      <th>161</th>\n",
       "      <td>Anrich Nortje</td>\n",
       "      <td>6</td>\n",
       "      <td>1</td>\n",
       "      <td>1</td>\n",
       "      <td>1</td>\n",
       "      <td>1*</td>\n",
       "      <td>-</td>\n",
       "      <td>6</td>\n",
       "      <td>16.66</td>\n",
       "      <td>0</td>\n",
       "      <td>0</td>\n",
       "      <td>0</td>\n",
       "    </tr>\n",
       "  </tbody>\n",
       "</table>\n",
       "<p>162 rows × 12 columns</p>\n",
       "</div>"
      ],
      "text/plain": [
       "                  Player  Mat  Inns  NO  Runs    HS    Avg   BF      SR  100  \\\n",
       "0            Jos Buttler   17    17   2   863   116  57.53  579  149.05    4   \n",
       "1              K L Rahul   15    15   3   616  103*  51.33  455  135.38    2   \n",
       "2        Quinton De Kock   15    15   1   508  140*  36.29  341  148.97    1   \n",
       "3          Hardik Pandya   15    15   4   487   87*  44.27  371  131.26    0   \n",
       "4           Shubman Gill   16    16   2   483    96   34.5  365  132.32    0   \n",
       "..                   ...  ...   ...  ..   ...   ...    ...  ...     ...  ...   \n",
       "157     Fazalhaq Farooqi    3     1   1     2    2*      -    8   25.00    0   \n",
       "158   Jagadeesha Suchith    5     2   0     2     2      1    8   25.00    0   \n",
       "159          Tim Southee    9     5   1     2    1*    0.5   12   16.66    0   \n",
       "160  Nathan Coulter-Nile    1     1   1     1    1*      -    2   50.00    0   \n",
       "161        Anrich Nortje    6     1   1     1    1*      -    6   16.66    0   \n",
       "\n",
       "     50  4s  \n",
       "0     4  83  \n",
       "1     4  45  \n",
       "2     3  47  \n",
       "3     4  49  \n",
       "4     4  51  \n",
       "..   ..  ..  \n",
       "157   0   0  \n",
       "158   0   0  \n",
       "159   0   0  \n",
       "160   0   0  \n",
       "161   0   0  \n",
       "\n",
       "[162 rows x 12 columns]"
      ]
     },
     "execution_count": 3,
     "metadata": {},
     "output_type": "execute_result"
    }
   ],
   "source": [
    "df"
   ]
  },
  {
   "cell_type": "markdown",
   "id": "0442f6fb",
   "metadata": {},
   "source": [
    "### Handling Null Values"
   ]
  },
  {
   "cell_type": "code",
   "execution_count": null,
   "id": "371df239",
   "metadata": {},
   "outputs": [],
   "source": [
    "# \"Avg\" column values have calculated by Runs/(Inns-NO) clearly\n",
    "# \"Avg\" column have some missing values shown by '-' where player has played only 1 innings and has remained not out.\n",
    "# Some values in HS column which depict not out score have * in them, so have to remove * to use these values"
   ]
  },
  {
   "cell_type": "code",
   "execution_count": 4,
   "id": "4a061afd",
   "metadata": {},
   "outputs": [],
   "source": [
    "#To account for - in Avg, there is no way to fill the data, so have to drop the rows.\n",
    "#As there are not much such rows, it shouldn't affect the results much.\n",
    "df.drop(index=df[df['Avg'] == '-'].index, inplace=True)"
   ]
  },
  {
   "cell_type": "code",
   "execution_count": 5,
   "id": "9b67a871",
   "metadata": {},
   "outputs": [],
   "source": [
    "#Removing * from HS values\n",
    "df['HS'] = df['HS'].apply(lambda score:score.split('*')[0])"
   ]
  },
  {
   "cell_type": "code",
   "execution_count": 6,
   "id": "db73a3b1",
   "metadata": {},
   "outputs": [
    {
     "data": {
      "text/html": [
       "<div>\n",
       "<style scoped>\n",
       "    .dataframe tbody tr th:only-of-type {\n",
       "        vertical-align: middle;\n",
       "    }\n",
       "\n",
       "    .dataframe tbody tr th {\n",
       "        vertical-align: top;\n",
       "    }\n",
       "\n",
       "    .dataframe thead th {\n",
       "        text-align: right;\n",
       "    }\n",
       "</style>\n",
       "<table border=\"1\" class=\"dataframe\">\n",
       "  <thead>\n",
       "    <tr style=\"text-align: right;\">\n",
       "      <th></th>\n",
       "      <th>Player</th>\n",
       "      <th>Mat</th>\n",
       "      <th>Inns</th>\n",
       "      <th>NO</th>\n",
       "      <th>Runs</th>\n",
       "      <th>HS</th>\n",
       "      <th>Avg</th>\n",
       "      <th>BF</th>\n",
       "      <th>SR</th>\n",
       "      <th>100</th>\n",
       "      <th>50</th>\n",
       "      <th>4s</th>\n",
       "    </tr>\n",
       "  </thead>\n",
       "  <tbody>\n",
       "    <tr>\n",
       "      <th>0</th>\n",
       "      <td>Jos Buttler</td>\n",
       "      <td>17</td>\n",
       "      <td>17</td>\n",
       "      <td>2</td>\n",
       "      <td>863</td>\n",
       "      <td>116</td>\n",
       "      <td>57.53</td>\n",
       "      <td>579</td>\n",
       "      <td>149.05</td>\n",
       "      <td>4</td>\n",
       "      <td>4</td>\n",
       "      <td>83</td>\n",
       "    </tr>\n",
       "    <tr>\n",
       "      <th>1</th>\n",
       "      <td>K L Rahul</td>\n",
       "      <td>15</td>\n",
       "      <td>15</td>\n",
       "      <td>3</td>\n",
       "      <td>616</td>\n",
       "      <td>103</td>\n",
       "      <td>51.33</td>\n",
       "      <td>455</td>\n",
       "      <td>135.38</td>\n",
       "      <td>2</td>\n",
       "      <td>4</td>\n",
       "      <td>45</td>\n",
       "    </tr>\n",
       "    <tr>\n",
       "      <th>2</th>\n",
       "      <td>Quinton De Kock</td>\n",
       "      <td>15</td>\n",
       "      <td>15</td>\n",
       "      <td>1</td>\n",
       "      <td>508</td>\n",
       "      <td>140</td>\n",
       "      <td>36.29</td>\n",
       "      <td>341</td>\n",
       "      <td>148.97</td>\n",
       "      <td>1</td>\n",
       "      <td>3</td>\n",
       "      <td>47</td>\n",
       "    </tr>\n",
       "    <tr>\n",
       "      <th>3</th>\n",
       "      <td>Hardik Pandya</td>\n",
       "      <td>15</td>\n",
       "      <td>15</td>\n",
       "      <td>4</td>\n",
       "      <td>487</td>\n",
       "      <td>87</td>\n",
       "      <td>44.27</td>\n",
       "      <td>371</td>\n",
       "      <td>131.26</td>\n",
       "      <td>0</td>\n",
       "      <td>4</td>\n",
       "      <td>49</td>\n",
       "    </tr>\n",
       "    <tr>\n",
       "      <th>4</th>\n",
       "      <td>Shubman Gill</td>\n",
       "      <td>16</td>\n",
       "      <td>16</td>\n",
       "      <td>2</td>\n",
       "      <td>483</td>\n",
       "      <td>96</td>\n",
       "      <td>34.5</td>\n",
       "      <td>365</td>\n",
       "      <td>132.32</td>\n",
       "      <td>0</td>\n",
       "      <td>4</td>\n",
       "      <td>51</td>\n",
       "    </tr>\n",
       "    <tr>\n",
       "      <th>...</th>\n",
       "      <td>...</td>\n",
       "      <td>...</td>\n",
       "      <td>...</td>\n",
       "      <td>...</td>\n",
       "      <td>...</td>\n",
       "      <td>...</td>\n",
       "      <td>...</td>\n",
       "      <td>...</td>\n",
       "      <td>...</td>\n",
       "      <td>...</td>\n",
       "      <td>...</td>\n",
       "      <td>...</td>\n",
       "    </tr>\n",
       "    <tr>\n",
       "      <th>154</th>\n",
       "      <td>Navdeep Saini</td>\n",
       "      <td>2</td>\n",
       "      <td>1</td>\n",
       "      <td>0</td>\n",
       "      <td>2</td>\n",
       "      <td>2</td>\n",
       "      <td>2</td>\n",
       "      <td>2</td>\n",
       "      <td>100.00</td>\n",
       "      <td>0</td>\n",
       "      <td>0</td>\n",
       "      <td>0</td>\n",
       "    </tr>\n",
       "    <tr>\n",
       "      <th>155</th>\n",
       "      <td>Tristan Stubbs</td>\n",
       "      <td>2</td>\n",
       "      <td>2</td>\n",
       "      <td>0</td>\n",
       "      <td>2</td>\n",
       "      <td>2</td>\n",
       "      <td>1</td>\n",
       "      <td>4</td>\n",
       "      <td>50.00</td>\n",
       "      <td>0</td>\n",
       "      <td>0</td>\n",
       "      <td>0</td>\n",
       "    </tr>\n",
       "    <tr>\n",
       "      <th>156</th>\n",
       "      <td>Pradeep Sangwan</td>\n",
       "      <td>3</td>\n",
       "      <td>1</td>\n",
       "      <td>0</td>\n",
       "      <td>2</td>\n",
       "      <td>2</td>\n",
       "      <td>2</td>\n",
       "      <td>5</td>\n",
       "      <td>40.00</td>\n",
       "      <td>0</td>\n",
       "      <td>0</td>\n",
       "      <td>0</td>\n",
       "    </tr>\n",
       "    <tr>\n",
       "      <th>158</th>\n",
       "      <td>Jagadeesha Suchith</td>\n",
       "      <td>5</td>\n",
       "      <td>2</td>\n",
       "      <td>0</td>\n",
       "      <td>2</td>\n",
       "      <td>2</td>\n",
       "      <td>1</td>\n",
       "      <td>8</td>\n",
       "      <td>25.00</td>\n",
       "      <td>0</td>\n",
       "      <td>0</td>\n",
       "      <td>0</td>\n",
       "    </tr>\n",
       "    <tr>\n",
       "      <th>159</th>\n",
       "      <td>Tim Southee</td>\n",
       "      <td>9</td>\n",
       "      <td>5</td>\n",
       "      <td>1</td>\n",
       "      <td>2</td>\n",
       "      <td>1</td>\n",
       "      <td>0.5</td>\n",
       "      <td>12</td>\n",
       "      <td>16.66</td>\n",
       "      <td>0</td>\n",
       "      <td>0</td>\n",
       "      <td>0</td>\n",
       "    </tr>\n",
       "  </tbody>\n",
       "</table>\n",
       "<p>154 rows × 12 columns</p>\n",
       "</div>"
      ],
      "text/plain": [
       "                 Player  Mat  Inns  NO  Runs   HS    Avg   BF      SR  100  \\\n",
       "0           Jos Buttler   17    17   2   863  116  57.53  579  149.05    4   \n",
       "1             K L Rahul   15    15   3   616  103  51.33  455  135.38    2   \n",
       "2       Quinton De Kock   15    15   1   508  140  36.29  341  148.97    1   \n",
       "3         Hardik Pandya   15    15   4   487   87  44.27  371  131.26    0   \n",
       "4          Shubman Gill   16    16   2   483   96   34.5  365  132.32    0   \n",
       "..                  ...  ...   ...  ..   ...  ...    ...  ...     ...  ...   \n",
       "154       Navdeep Saini    2     1   0     2    2      2    2  100.00    0   \n",
       "155      Tristan Stubbs    2     2   0     2    2      1    4   50.00    0   \n",
       "156     Pradeep Sangwan    3     1   0     2    2      2    5   40.00    0   \n",
       "158  Jagadeesha Suchith    5     2   0     2    2      1    8   25.00    0   \n",
       "159         Tim Southee    9     5   1     2    1    0.5   12   16.66    0   \n",
       "\n",
       "     50  4s  \n",
       "0     4  83  \n",
       "1     4  45  \n",
       "2     3  47  \n",
       "3     4  49  \n",
       "4     4  51  \n",
       "..   ..  ..  \n",
       "154   0   0  \n",
       "155   0   0  \n",
       "156   0   0  \n",
       "158   0   0  \n",
       "159   0   0  \n",
       "\n",
       "[154 rows x 12 columns]"
      ]
     },
     "execution_count": 6,
     "metadata": {},
     "output_type": "execute_result"
    }
   ],
   "source": [
    "df"
   ]
  },
  {
   "cell_type": "markdown",
   "id": "028b243d",
   "metadata": {},
   "source": [
    "### Plotting graphs using matplotlib"
   ]
  },
  {
   "cell_type": "code",
   "execution_count": 7,
   "id": "286a786a",
   "metadata": {},
   "outputs": [
    {
     "data": {
      "image/png": "[encoded data removed]",
      "text/plain": [
       "<Figure size 1600x600 with 3 Axes>"
      ]
     },
     "metadata": {},
     "output_type": "display_data"
    },
    {
     "data": {
      "image/png": "[encoded data removed]",
      "text/plain": [
       "<Figure size 1600x600 with 3 Axes>"
      ]
     },
     "metadata": {},
     "output_type": "display_data"
    },
    {
     "data": {
      "image/png": "[encoded data removed]",
      "text/plain": [
       "<Figure size 1600x600 with 3 Axes>"
      ]
     },
     "metadata": {},
     "output_type": "display_data"
    }
   ],
   "source": [
    "fig,axes = plt.subplots(nrows=1,ncols=3,figsize=(16,6))\n",
    "\n",
    "axes[0].plot(df['Inns'],df['4s'],'o')\n",
    "axes[0].set_title(\"Innings\")\n",
    "axes[0].set_ylabel(\"4s\")\n",
    "\n",
    "axes[1].plot(df['Runs'],df['4s'],'o')\n",
    "axes[1].set_title(\"Runs\")\n",
    "axes[1].set_ylabel(\"4s\")\n",
    "\n",
    "axes[2].plot(df['NO'],df['4s'],'o')\n",
    "axes[2].set_title(\"Not Outs\")\n",
    "axes[2].set_ylabel(\"4s\")\n",
    "\n",
    "fig,axes = plt.subplots(nrows=1,ncols=3,figsize=(16,6))\n",
    "\n",
    "axes[0].plot(df['100'],df['4s'],'o')\n",
    "axes[0].set_title(\"100s\");\n",
    "axes[0].set_ylabel(\"4s\")\n",
    "\n",
    "axes[1].plot(df['50'],df['4s'],'o')\n",
    "axes[1].set_title(\"50s\");\n",
    "axes[1].set_ylabel(\"4s\")\n",
    "\n",
    "axes[2].plot(df['HS'],df['4s'],'o')\n",
    "axes[2].set_title(\"High Score\");\n",
    "axes[2].set_ylabel(\"4s\")\n",
    "\n",
    "plt.xticks(color='w')\n",
    "fig,axes = plt.subplots(nrows=1,ncols=3,figsize=(16,6))\n",
    "\n",
    "axes[0].plot(df['SR'],df['4s'],'o')\n",
    "axes[0].set_title(\"Strike Rate\");\n",
    "axes[0].set_ylabel(\"4s\")\n",
    "\n",
    "axes[1].plot(df['BF'],df['4s'],'o')\n",
    "axes[1].set_title(\"Balls played\")\n",
    "axes[1].set_ylabel(\"4s\")\n",
    "\n",
    "axes[2].plot(df['Avg'],df['4s'],'o')\n",
    "axes[2].set_ylabel(\"4s\")\n",
    "axes[2].set_title(\"Average\")\n",
    "plt.xticks(color='w')\n",
    "plt.tight_layout();"
   ]
  },
  {
   "cell_type": "markdown",
   "id": "25e662f7",
   "metadata": {},
   "source": [
    "#### This shows that maybe  Runs, BF, Inns can be used to predict Target Value (4s)"
   ]
  },
  {
   "cell_type": "markdown",
   "id": "ac66b3d2",
   "metadata": {},
   "source": [
    "### Linear regression on the number of 4s.\n"
   ]
  },
  {
   "cell_type": "markdown",
   "id": "1ce18b0c",
   "metadata": {},
   "source": [
    "Creating two data frames, one for features and one for target "
   ]
  },
  {
   "cell_type": "code",
   "execution_count": null,
   "id": "993deaf8",
   "metadata": {},
   "outputs": [],
   "source": [
    "# Features chosen : Innings, Runs, Balls PLayed"
   ]
  },
  {
   "cell_type": "code",
   "execution_count": 8,
   "id": "f4eee172",
   "metadata": {},
   "outputs": [],
   "source": [
    "X = df[['Runs','BF','Inns']]\n",
    "y = df['4s']"
   ]
  },
  {
   "cell_type": "markdown",
   "id": "a4f0e05f",
   "metadata": {},
   "source": [
    "### Splitting dataset into test, train datasets"
   ]
  },
  {
   "cell_type": "code",
   "execution_count": 9,
   "id": "c4922083",
   "metadata": {},
   "outputs": [],
   "source": [
    "X_train, X_test, y_train, y_test = train_test_split(X, y, test_size=0.3, random_state=13)"
   ]
  },
  {
   "cell_type": "code",
   "execution_count": 10,
   "id": "3b3e4af4",
   "metadata": {},
   "outputs": [
    {
     "data": {
      "text/html": [
       "<style>#sk-container-id-1 {color: black;}#sk-container-id-1 pre{padding: 0;}#sk-container-id-1 div.sk-toggleable {background-color: white;}#sk-container-id-1 label.sk-toggleable__label {cursor: pointer;display: block;width: 100%;margin-bottom: 0;padding: 0.3em;box-sizing: border-box;text-align: center;}#sk-container-id-1 label.sk-toggleable__label-arrow:before {content: \"▸\";float: left;margin-right: 0.25em;color: #696969;}#sk-container-id-1 label.sk-toggleable__label-arrow:hover:before {color: black;}#sk-container-id-1 div.sk-estimator:hover label.sk-toggleable__label-arrow:before {color: black;}#sk-container-id-1 div.sk-toggleable__content {max-height: 0;max-width: 0;overflow: hidden;text-align: left;background-color: #f0f8ff;}#sk-container-id-1 div.sk-toggleable__content pre {margin: 0.2em;color: black;border-radius: 0.25em;background-color: #f0f8ff;}#sk-container-id-1 input.sk-toggleable__control:checked~div.sk-toggleable__content {max-height: 200px;max-width: 100%;overflow: auto;}#sk-container-id-1 input.sk-toggleable__control:checked~label.sk-toggleable__label-arrow:before {content: \"▾\";}#sk-container-id-1 div.sk-estimator input.sk-toggleable__control:checked~label.sk-toggleable__label {background-color: #d4ebff;}#sk-container-id-1 div.sk-label input.sk-toggleable__control:checked~label.sk-toggleable__label {background-color: #d4ebff;}#sk-container-id-1 input.sk-hidden--visually {border: 0;clip: rect(1px 1px 1px 1px);clip: rect(1px, 1px, 1px, 1px);height: 1px;margin: -1px;overflow: hidden;padding: 0;position: absolute;width: 1px;}#sk-container-id-1 div.sk-estimator {font-family: monospace;background-color: #f0f8ff;border: 1px dotted black;border-radius: 0.25em;box-sizing: border-box;margin-bottom: 0.5em;}#sk-container-id-1 div.sk-estimator:hover {background-color: #d4ebff;}#sk-container-id-1 div.sk-parallel-item::after {content: \"\";width: 100%;border-bottom: 1px solid gray;flex-grow: 1;}#sk-container-id-1 div.sk-label:hover label.sk-toggleable__label {background-color: #d4ebff;}#sk-container-id-1 div.sk-serial::before {content: \"\";position: absolute;border-left: 1px solid gray;box-sizing: border-box;top: 0;bottom: 0;left: 50%;z-index: 0;}#sk-container-id-1 div.sk-serial {display: flex;flex-direction: column;align-items: center;background-color: white;padding-right: 0.2em;padding-left: 0.2em;position: relative;}#sk-container-id-1 div.sk-item {position: relative;z-index: 1;}#sk-container-id-1 div.sk-parallel {display: flex;align-items: stretch;justify-content: center;background-color: white;position: relative;}#sk-container-id-1 div.sk-item::before, #sk-container-id-1 div.sk-parallel-item::before {content: \"\";position: absolute;border-left: 1px solid gray;box-sizing: border-box;top: 0;bottom: 0;left: 50%;z-index: -1;}#sk-container-id-1 div.sk-parallel-item {display: flex;flex-direction: column;z-index: 1;position: relative;background-color: white;}#sk-container-id-1 div.sk-parallel-item:first-child::after {align-self: flex-end;width: 50%;}#sk-container-id-1 div.sk-parallel-item:last-child::after {align-self: flex-start;width: 50%;}#sk-container-id-1 div.sk-parallel-item:only-child::after {width: 0;}#sk-container-id-1 div.sk-dashed-wrapped {border: 1px dashed gray;margin: 0 0.4em 0.5em 0.4em;box-sizing: border-box;padding-bottom: 0.4em;background-color: white;}#sk-container-id-1 div.sk-label label {font-family: monospace;font-weight: bold;display: inline-block;line-height: 1.2em;}#sk-container-id-1 div.sk-label-container {text-align: center;}#sk-container-id-1 div.sk-container {/* jupyter's `normalize.less` sets `[hidden] { display: none; }` but bootstrap.min.css set `[hidden] { display: none !important; }` so we also need the `!important` here to be able to override the default hidden behavior on the sphinx rendered scikit-learn.org. See: https://github.com/scikit-learn/scikit-learn/issues/21755 */display: inline-block !important;position: relative;}#sk-container-id-1 div.sk-text-repr-fallback {display: none;}</style><div id=\"sk-container-id-1\" class=\"sk-top-container\"><div class=\"sk-text-repr-fallback\"><pre>LinearRegression()</pre><b>In a Jupyter environment, please rerun this cell to show the HTML representation or trust the notebook. <br />On GitHub, the HTML representation is unable to render, please try loading this page with nbviewer.org.</b></div><div class=\"sk-container\" hidden><div class=\"sk-item\"><div class=\"sk-estimator sk-toggleable\"><input class=\"sk-toggleable__control sk-hidden--visually\" id=\"sk-estimator-id-1\" type=\"checkbox\" checked><label for=\"sk-estimator-id-1\" class=\"sk-toggleable__label sk-toggleable__label-arrow\">LinearRegression</label><div class=\"sk-toggleable__content\"><pre>LinearRegression()</pre></div></div></div></div></div>"
      ],
      "text/plain": [
       "LinearRegression()"
      ]
     },
     "execution_count": 10,
     "metadata": {},
     "output_type": "execute_result"
    }
   ],
   "source": [
    "model = LinearRegression()\n",
    "model.fit(X_train,y_train)"
   ]
  },
  {
   "cell_type": "code",
   "execution_count": 11,
   "id": "2c97d498",
   "metadata": {},
   "outputs": [],
   "source": [
    "#Finding predictions on test data from trained model\n",
    "test_predictions = model.predict(X_test)\n",
    "test_predictions[test_predictions < 0] = 0 #(changing negative values to 0)\n",
    "\n",
    "#Finding predictions on trained data to find error.\n",
    "train_predictions2 = model.predict(X_train)\n",
    "train_predictions2[train_predictions2 < 0] = 0"
   ]
  },
  {
   "cell_type": "markdown",
   "id": "c8ebc794",
   "metadata": {},
   "source": [
    "### Predicted values"
   ]
  },
  {
   "cell_type": "code",
   "execution_count": 12,
   "id": "ee3ae612",
   "metadata": {},
   "outputs": [
    {
     "data": {
      "text/plain": [
       "array([ 0.09436431,  0.18066702,  2.98175422,  0.        ,  2.3385068 ,\n",
       "        6.04252231, 20.51935357,  2.37255936, 23.06048909, 15.86145321,\n",
       "        7.6352322 , 23.87685731,  3.54324057,  3.88013481, 33.32224142,\n",
       "        1.17588482,  4.36935773, 26.38445628, 14.67101611,  0.        ,\n",
       "        8.92432157, 39.4027142 , 17.63859724, 36.84351251, 34.68489389,\n",
       "        1.47664735,  4.08640337,  6.04759149,  0.        ,  0.13855524,\n",
       "       34.29510207,  0.4716806 ,  8.42521766,  0.        ,  0.        ,\n",
       "       23.79731351,  0.13816582,  2.51540256,  0.38784646, 25.97997774,\n",
       "        9.66374661, 13.85230528, 39.71205133, 25.08939292, 23.8552809 ,\n",
       "        0.        ,  0.        ])"
      ]
     },
     "execution_count": 12,
     "metadata": {},
     "output_type": "execute_result"
    }
   ],
   "source": [
    "test_predictions"
   ]
  },
  {
   "cell_type": "markdown",
   "id": "80632a8c",
   "metadata": {},
   "source": [
    "### Mean Square Error(MSE)"
   ]
  },
  {
   "cell_type": "code",
   "execution_count": 13,
   "id": "938e8239",
   "metadata": {},
   "outputs": [],
   "source": [
    "MSE_Train = mean_squared_error(y_train,train_predictions2)"
   ]
  },
  {
   "cell_type": "code",
   "execution_count": 14,
   "id": "eed45bab",
   "metadata": {},
   "outputs": [
    {
     "data": {
      "text/plain": [
       "16.259383007264656"
      ]
     },
     "execution_count": 14,
     "metadata": {},
     "output_type": "execute_result"
    }
   ],
   "source": [
    "MSE_Train #mean square error on train data predictions"
   ]
  },
  {
   "cell_type": "code",
   "execution_count": 15,
   "id": "a16ae46f",
   "metadata": {},
   "outputs": [],
   "source": [
    "MSE_Test = mean_squared_error(y_test,test_predictions)"
   ]
  },
  {
   "cell_type": "code",
   "execution_count": 16,
   "id": "ebd991a8",
   "metadata": {},
   "outputs": [
    {
     "data": {
      "text/plain": [
       "16.692278692702565"
      ]
     },
     "execution_count": 16,
     "metadata": {},
     "output_type": "execute_result"
    }
   ],
   "source": [
    "MSE_Test #mean square error on test data predictions"
   ]
  }
 ],
 "metadata": {
  "kernelspec": {
   "display_name": "Python 3 (ipykernel)",
   "language": "python",
   "name": "python3"
  },
  "language_info": {
   "codemirror_mode": {
    "name": "ipython",
    "version": 3
   },
   "file_extension": ".py",
   "mimetype": "text/x-python",
   "name": "python",
   "nbconvert_exporter": "python",
   "pygments_lexer": "ipython3",
   "version": "3.11.4"
  }
 },
 "nbformat": 4,
 "nbformat_minor": 5
}
